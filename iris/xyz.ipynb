{
 "cells": [
  {
   "cell_type": "code",
   "execution_count": 2,
   "id": "1214801a-96d9-4612-8104-d9be315a798f",
   "metadata": {},
   "outputs": [
    {
     "name": "stdout",
     "output_type": "stream",
     "text": [
      "hellow_world\n"
     ]
    }
   ],
   "source": [
    "print(\"hellow_world\")"
   ]
  },
  {
   "cell_type": "code",
   "execution_count": null,
   "id": "8f4247a4-e7f7-4e32-a956-900cbb05fe1b",
   "metadata": {},
   "outputs": [],
   "source": []
  }
 ],
 "metadata": {
  "kernelspec": {
   "display_name": "conda_python3",
   "language": "python",
   "name": "conda_python3"
  },
  "language_info": {
   "codemirror_mode": {
    "name": "ipython",
    "version": 3
   },
   "file_extension": ".py",
   "mimetype": "text/x-python",
   "name": "python",
   "nbconvert_exporter": "python",
   "pygments_lexer": "ipython3",
   "version": "3.10.16"
  }
 },
 "nbformat": 4,
 "nbformat_minor": 5
}
