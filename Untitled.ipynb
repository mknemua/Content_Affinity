{
 "cells": [
  {
   "cell_type": "code",
   "execution_count": null,
   "id": "3d4fec67-7a03-433c-9823-4bdfa3fb735a",
   "metadata": {},
   "outputs": [],
   "source": []
  }
 ],
 "metadata": {
  "kernelspec": {
   "display_name": "",
   "name": ""
  },
  "language_info": {
   "name": ""
  }
 },
 "nbformat": 4,
 "nbformat_minor": 5
}
