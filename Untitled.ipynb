{
 "cells": [
  {
   "cell_type": "code",
   "execution_count": 2,
   "id": "3d4fec67-7a03-433c-9823-4bdfa3fb735a",
   "metadata": {},
   "outputs": [
    {
     "name": "stdout",
     "output_type": "stream",
     "text": [
      "nabis\n"
     ]
    }
   ],
   "source": [
    "print(\"nabis\")"
   ]
  },
  {
   "cell_type": "code",
   "execution_count": 3,
   "id": "edfd1c2e-03ea-405c-aabc-eda429c80caa",
   "metadata": {},
   "outputs": [
    {
     "name": "stdout",
     "output_type": "stream",
     "text": [
      "krishu\n"
     ]
    }
   ],
   "source": [
    "print(\"krishu\")"
   ]
  },
  {
   "cell_type": "code",
   "execution_count": 4,
   "id": "e6f2f51d-9aca-4bd2-a0aa-d7eea7db2bcc",
   "metadata": {},
   "outputs": [
    {
     "name": "stdout",
     "output_type": "stream",
     "text": [
      "nit\n"
     ]
    }
   ],
   "source": [
    "print(\"nit\")"
   ]
  },
  {
   "cell_type": "code",
   "execution_count": null,
   "id": "3fd9d9fc-c95a-4d21-97ea-e39c74eb268d",
   "metadata": {},
   "outputs": [],
   "source": []
  }
 ],
 "metadata": {
  "kernelspec": {
   "display_name": "conda_python3",
   "language": "python",
   "name": "conda_python3"
  },
  "language_info": {
   "codemirror_mode": {
    "name": "ipython",
    "version": 3
   },
   "file_extension": ".py",
   "mimetype": "text/x-python",
   "name": "python",
   "nbconvert_exporter": "python",
   "pygments_lexer": "ipython3",
   "version": "3.10.16"
  }
 },
 "nbformat": 4,
 "nbformat_minor": 5
}
